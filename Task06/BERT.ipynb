{
 "cells": [
  {
   "cell_type": "code",
   "execution_count": 1,
   "metadata": {
    "uuid": "2b602893-4ac7-4fcd-ad6c-8bcf781444d4"
   },
   "outputs": [],
   "source": [
    "import torch\n",
    "from torch import nn\n",
    "\n",
    "from transformers import get_linear_schedule_with_warmup\n",
    "from transformers import AdamW\n",
    "\n",
    "from GetLoader import GetLoader\n",
    "from MyDataset import MyDataset\n",
    "from GetInit import GetInit\n",
    "from TrainFunc import TrainFunc\n",
    "from Bert import Bert\n",
    "\n",
    "import warnings\n",
    "warnings.filterwarnings(\"ignore\")\n",
    "torch.backends.cudnn.benchmark = True"
   ]
  },
  {
   "cell_type": "code",
   "execution_count": 2,
   "metadata": {
    "uuid": "511122af-14c7-411a-86a7-93f3a59a7266"
   },
   "outputs": [],
   "source": [
    "import random\n",
    "import numpy as np\n",
    "seed_val = 42\n",
    "random.seed(seed_val)\n",
    "np.random.seed(seed_val)\n",
    "torch.manual_seed(seed_val)\n",
    "torch.cuda.manual_seed_all(seed_val)"
   ]
  },
  {
   "cell_type": "code",
   "execution_count": 3,
   "metadata": {
    "uuid": "3f700e00-d207-4952-85f4-a5e631f969db"
   },
   "outputs": [
    {
     "name": "stdout",
     "output_type": "stream",
     "text": [
      "GetInit Start!\n",
      "GetInit End!\n",
      "GetLoader End\n"
     ]
    }
   ],
   "source": [
    "data_root = {\n",
    "    \"train_path\": '../../data/train_torch.csv',\n",
    "    \"test_path\": \"../../data/test_a.csv\",\n",
    "    \"sub_path\": \"../../data/test_a_sample_submit.csv\",\n",
    "#     \"w2v_path\": \"../../data/word2vec.bin\",\n",
    "    \"bert_path\": \"./bert-mini/\"\n",
    "}\n",
    "config = GetInit(data_root)\n",
    "\n",
    "train_dataset = MyDataset(data_root[\"bert_path\"],\n",
    "                          corpus=config.x_train,\n",
    "                          feature=config.x_train_feature,\n",
    "                          corpus_label=config.y_train,\n",
    "                          with_label=True)\n",
    "test_dataset = MyDataset(data_root[\"bert_path\"],\n",
    "                         corpus=config.x_test,\n",
    "                         feature=config.x_test_feature,\n",
    "                         with_label=False)\n",
    "\n",
    "loader = GetLoader(train_dataset, test_dataset)"
   ]
  },
  {
   "cell_type": "code",
   "execution_count": 4,
   "metadata": {
    "uuid": "9bd931ea-dc55-495b-bf95-1e82c566426f"
   },
   "outputs": [],
   "source": [
    "# 建立model\n",
    "model = Bert(bert_path=data_root[\"bert_path\"], hidden_size=100, output_size=14, dropout=0.5)\n",
    "model.cuda()\n",
    "criterion = nn.NLLLoss()\n",
    "opt = AdamW(model.parameters(),\n",
    "            lr=5e-5,  # args.learning_rate - default is 5e-5\n",
    "            eps=1e-8  # args.adam_epsilon  - default is 1e-8\n",
    "            )\n",
    "epochs = 2\n",
    "total_steps = len(loader.train_loader) * epochs\n",
    "scheduler = get_linear_schedule_with_warmup(opt,\n",
    "                                            num_warmup_steps=0,\n",
    "                                            num_training_steps=total_steps)"
   ]
  },
  {
   "cell_type": "code",
   "execution_count": null,
   "metadata": {
    "uuid": "57b7d6d0-5765-4a21-9b3e-56b7ee8980c3"
   },
   "outputs": [
    {
     "name": "stdout",
     "output_type": "stream",
     "text": [
      " \n",
      "======== Epoch 1 / 2 ========\n",
      "Training...\n",
      "  Batch     0  of  22,500.  Loss:2.612825632095337      Elapsed: 0:00:00.\n",
      "  Batch    80  of  22,500.  Loss:2.3251945972442627     Elapsed: 0:00:13.\n",
      "  Batch   160  of  22,500.  Loss:1.902754783630371      Elapsed: 0:00:27.\n",
      "  Batch   240  of  22,500.  Loss:2.0223584175109863     Elapsed: 0:00:41.\n",
      "  Batch   320  of  22,500.  Loss:1.1111431121826172     Elapsed: 0:00:54.\n",
      "  Batch   400  of  22,500.  Loss:1.3314710855484009     Elapsed: 0:01:06.\n",
      "  Batch   480  of  22,500.  Loss:0.8565031886100769     Elapsed: 0:01:20.\n",
      "  Batch   560  of  22,500.  Loss:0.8969120979309082     Elapsed: 0:01:33.\n",
      "  Batch   640  of  22,500.  Loss:1.051419973373413      Elapsed: 0:01:45.\n",
      "  Batch   720  of  22,500.  Loss:0.9986407160758972     Elapsed: 0:01:59.\n",
      "  Batch   800  of  22,500.  Loss:0.7038463354110718     Elapsed: 0:02:17.\n",
      "  Batch   880  of  22,500.  Loss:0.7338001728057861     Elapsed: 0:02:30.\n"
     ]
    }
   ],
   "source": [
    "# 开始训练\n",
    "mytrain = TrainFunc(model, criterion, opt, scheduler, loader.train_loader, loader.valid_loader, loader.test_loader)\n",
    "best_model = mytrain.train(epochs)"
   ]
  },
  {
   "cell_type": "code",
   "execution_count": null,
   "metadata": {
    "uuid": "985d4e30-a9bc-47ca-97d2-379a28d5150f"
   },
   "outputs": [],
   "source": [
    "import pandas as pd\n",
    "pd.set_option('precision', 2)\n",
    "df_stats = pd.DataFrame(data=mytrain.training_stats)\n",
    "df_stats = df_stats.set_index('epoch')\n",
    "df_stats"
   ]
  },
  {
   "cell_type": "code",
   "execution_count": null,
   "metadata": {
    "uuid": "b31300c0-2e47-4b53-86cd-526805adef86"
   },
   "outputs": [],
   "source": [
    "import pandas as pd\n",
    "import numpy as np\n",
    "ans=mytrain.predict()\n",
    "df_sub=pd.read_csv(data_root[\"sub_path\"])\n",
    "df_sub.label=np.array(ans)\n",
    "df_sub.label=df_sub.label.astype(\"int64\")\n",
    "save_name=\"./bertmini_{:.4f}.csv\".format(mytrain.best_score)\n",
    "df_sub.to_csv(save_name, index=False)"
   ]
  }
 ],
 "metadata": {
  "kernelspec": {
   "display_name": "PyTorch",
   "language": "python",
   "name": "pytorch"
  },
  "language_info": {
   "codemirror_mode": {
    "name": "ipython",
    "version": 3
   },
   "file_extension": ".py",
   "mimetype": "text/x-python",
   "name": "python",
   "nbconvert_exporter": "python",
   "pygments_lexer": "ipython3",
   "version": "3.6.4"
  }
 },
 "nbformat": 4,
 "nbformat_minor": 2
}
