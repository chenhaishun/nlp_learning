{
 "cells": [
  {
   "cell_type": "code",
   "execution_count": 1,
   "metadata": {
    "uuid": "ce452fcd-16ee-4ac5-872e-a4b42372ebf8"
   },
   "outputs": [],
   "source": [
    "import torch\n",
    "from torch import nn\n",
    "\n",
    "from GetLoader import GetLoader\n",
    "from ModelEmbedding import ModelEmbedding\n",
    "from MyDataset import MyDataset\n",
    "from GetInit import GetInit\n",
    "from TrainFunc import TrainFunc\n",
    "from TextRNN import TextRNN"
   ]
  },
  {
   "cell_type": "code",
   "execution_count": 2,
   "metadata": {
    "uuid": "d2ffe3c4-a3b4-4c66-8b27-ca7819b3d243"
   },
   "outputs": [
    {
     "name": "stdout",
     "output_type": "stream",
     "text": [
      "GetInit Start!\n",
      "GetInit End!\n",
      "ModelEmbedding End!\n",
      "GetLoader End\n"
     ]
    }
   ],
   "source": [
    "data_root = {\n",
    "    \"train_path\": '../../data/train_torch.csv',\n",
    "    \"test_path\": \"../../data/test_a.csv\",\n",
    "    \"sub_path\": \"../../data/test_a_sample_submit.csv\",\n",
    "    \"w2v_path\": \"../../data/word2vec.bin\"\n",
    "}\n",
    "config = GetInit(data_root)\n",
    "model_embedding = ModelEmbedding(data_root[\"w2v_path\"])\n",
    "\n",
    "train_dataset = MyDataset(model_embedding,\n",
    "                          corpus=config.x_train,\n",
    "                          corpus_label=config.y_train,\n",
    "                          with_label=True)\n",
    "test_dataset = MyDataset(model_embedding,\n",
    "                         corpus=config.x_test,\n",
    "                         with_label=False)\n",
    "\n",
    "loader = GetLoader(train_dataset, test_dataset)"
   ]
  },
  {
   "cell_type": "code",
   "execution_count": 6,
   "metadata": {
    "uuid": "23ccff56-eab8-494a-bb0a-b39fe52a40d5"
   },
   "outputs": [
    {
     "name": "stdout",
     "output_type": "stream",
     "text": [
      "Train Epoch: 1 [0/180000 (0%)]\tLoss: 0.115245\n",
      "Train Epoch: 1 [12800/180000 (7%)]\tLoss: 0.249381\n",
      "Train Epoch: 1 [25600/180000 (14%)]\tLoss: 0.214995\n",
      "Train Epoch: 1 [38400/180000 (21%)]\tLoss: 0.018760\n",
      "Train Epoch: 1 [51200/180000 (28%)]\tLoss: 0.038879\n",
      "Train Epoch: 1 [64000/180000 (36%)]\tLoss: 0.055705\n",
      "Train Epoch: 1 [76800/180000 (43%)]\tLoss: 0.017273\n",
      "Train Epoch: 1 [89600/180000 (50%)]\tLoss: 0.042065\n",
      "Train Epoch: 1 [102400/180000 (57%)]\tLoss: 0.135035\n",
      "Train Epoch: 1 [115200/180000 (64%)]\tLoss: 0.098225\n",
      "Train Epoch: 1 [128000/180000 (71%)]\tLoss: 0.436284\n",
      "Train Epoch: 1 [140800/180000 (78%)]\tLoss: 0.211591\n",
      "Train Epoch: 1 [153600/180000 (85%)]\tLoss: 0.061865\n",
      "Train Epoch: 1 [166400/180000 (92%)]\tLoss: 0.197890\n",
      "Train Epoch: 1 [179200/180000 (100%)]\tLoss: 0.056953\n",
      "\tLoss: 0.1021(train)\t|\tAcc: 97.4%(train)\n",
      "\tLoss: 0.3015(valid)\t|\tAcc: 93.3%(valid)\n",
      "\tMicro: 0.9331(valid)\t|\tMacro: 0.9174(valid)\n",
      "Now_best:0.9174\n",
      "Train Epoch: 2 [0/180000 (0%)]\tLoss: 0.086483\n",
      "Train Epoch: 2 [12800/180000 (7%)]\tLoss: 0.213872\n",
      "Train Epoch: 2 [25600/180000 (14%)]\tLoss: 0.292186\n",
      "Train Epoch: 2 [38400/180000 (21%)]\tLoss: 0.008970\n",
      "Train Epoch: 2 [51200/180000 (28%)]\tLoss: 0.031595\n",
      "Train Epoch: 2 [64000/180000 (36%)]\tLoss: 0.065516\n",
      "Train Epoch: 2 [76800/180000 (43%)]\tLoss: 0.031076\n",
      "Train Epoch: 2 [89600/180000 (50%)]\tLoss: 0.062973\n",
      "Train Epoch: 2 [102400/180000 (57%)]\tLoss: 0.156172\n",
      "Train Epoch: 2 [115200/180000 (64%)]\tLoss: 0.115150\n",
      "Train Epoch: 2 [128000/180000 (71%)]\tLoss: 0.421177\n",
      "Train Epoch: 2 [140800/180000 (78%)]\tLoss: 0.135411\n",
      "Train Epoch: 2 [153600/180000 (85%)]\tLoss: 0.056778\n",
      "Train Epoch: 2 [166400/180000 (92%)]\tLoss: 0.143097\n",
      "Train Epoch: 2 [179200/180000 (100%)]\tLoss: 0.047223\n",
      "\tLoss: 0.0977(train)\t|\tAcc: 97.4%(train)\n",
      "\tLoss: 0.3052(valid)\t|\tAcc: 93.4%(valid)\n",
      "\tMicro: 0.9335(valid)\t|\tMacro: 0.9180(valid)\n",
      "Now_best:0.9180\n",
      "Train Epoch: 3 [0/180000 (0%)]\tLoss: 0.050145\n",
      "Train Epoch: 3 [12800/180000 (7%)]\tLoss: 0.221499\n",
      "Train Epoch: 3 [25600/180000 (14%)]\tLoss: 0.280542\n",
      "Train Epoch: 3 [38400/180000 (21%)]\tLoss: 0.014289\n",
      "Train Epoch: 3 [51200/180000 (28%)]\tLoss: 0.029408\n",
      "Train Epoch: 3 [64000/180000 (36%)]\tLoss: 0.062014\n",
      "Train Epoch: 3 [76800/180000 (43%)]\tLoss: 0.024845\n",
      "Train Epoch: 3 [89600/180000 (50%)]\tLoss: 0.059487\n",
      "Train Epoch: 3 [102400/180000 (57%)]\tLoss: 0.185924\n",
      "Train Epoch: 3 [115200/180000 (64%)]\tLoss: 0.132535\n",
      "Train Epoch: 3 [128000/180000 (71%)]\tLoss: 0.319393\n",
      "Train Epoch: 3 [140800/180000 (78%)]\tLoss: 0.102054\n",
      "Train Epoch: 3 [153600/180000 (85%)]\tLoss: 0.073367\n",
      "Train Epoch: 3 [166400/180000 (92%)]\tLoss: 0.176857\n",
      "Train Epoch: 3 [179200/180000 (100%)]\tLoss: 0.023553\n",
      "\tLoss: 0.0940(train)\t|\tAcc: 97.6%(train)\n",
      "\tLoss: 0.3088(valid)\t|\tAcc: 93.3%(valid)\n",
      "\tMicro: 0.9334(valid)\t|\tMacro: 0.9170(valid)\n",
      "Train Epoch: 4 [0/180000 (0%)]\tLoss: 0.046948\n",
      "Train Epoch: 4 [12800/180000 (7%)]\tLoss: 0.096045\n",
      "Train Epoch: 4 [25600/180000 (14%)]\tLoss: 0.288473\n",
      "Train Epoch: 4 [38400/180000 (21%)]\tLoss: 0.009580\n",
      "Train Epoch: 4 [51200/180000 (28%)]\tLoss: 0.034741\n",
      "Train Epoch: 4 [64000/180000 (36%)]\tLoss: 0.021084\n",
      "Train Epoch: 4 [76800/180000 (43%)]\tLoss: 0.021197\n",
      "Train Epoch: 4 [89600/180000 (50%)]\tLoss: 0.092612\n",
      "Train Epoch: 4 [102400/180000 (57%)]\tLoss: 0.108668\n",
      "Train Epoch: 4 [115200/180000 (64%)]\tLoss: 0.131615\n",
      "Train Epoch: 4 [128000/180000 (71%)]\tLoss: 0.282967\n",
      "Train Epoch: 4 [140800/180000 (78%)]\tLoss: 0.129309\n",
      "Train Epoch: 4 [153600/180000 (85%)]\tLoss: 0.043266\n",
      "Train Epoch: 4 [166400/180000 (92%)]\tLoss: 0.146048\n",
      "Train Epoch: 4 [179200/180000 (100%)]\tLoss: 0.043190\n",
      "\tLoss: 0.0900(train)\t|\tAcc: 97.7%(train)\n",
      "\tLoss: 0.3116(valid)\t|\tAcc: 93.3%(valid)\n",
      "\tMicro: 0.9334(valid)\t|\tMacro: 0.9172(valid)\n",
      "Train Epoch: 5 [0/180000 (0%)]\tLoss: 0.020188\n"
     ]
    },
    {
     "ename": "KeyboardInterrupt",
     "evalue": "",
     "output_type": "error",
     "traceback": [
      "\u001b[0;31m---------------------------------------------------------------------------\u001b[0m",
      "\u001b[0;31mKeyboardInterrupt\u001b[0m                         Traceback (most recent call last)",
      "\u001b[0;32m<ipython-input-6-dbe193222132>\u001b[0m in \u001b[0;36m<module>\u001b[0;34m\u001b[0m\n\u001b[1;32m      8\u001b[0m \u001b[0;31m# 开始训练\u001b[0m\u001b[0;34m\u001b[0m\u001b[0;34m\u001b[0m\u001b[0m\n\u001b[1;32m      9\u001b[0m \u001b[0mmytrain\u001b[0m \u001b[0;34m=\u001b[0m \u001b[0mTrainFunc\u001b[0m\u001b[0;34m(\u001b[0m\u001b[0mmodel\u001b[0m\u001b[0;34m,\u001b[0m \u001b[0mcriterion\u001b[0m\u001b[0;34m,\u001b[0m \u001b[0mopt\u001b[0m\u001b[0;34m,\u001b[0m \u001b[0mloader\u001b[0m\u001b[0;34m.\u001b[0m\u001b[0mtrain_loader\u001b[0m\u001b[0;34m,\u001b[0m \u001b[0mloader\u001b[0m\u001b[0;34m.\u001b[0m\u001b[0mvalid_loader\u001b[0m\u001b[0;34m,\u001b[0m \u001b[0mloader\u001b[0m\u001b[0;34m.\u001b[0m\u001b[0mtest_loader\u001b[0m\u001b[0;34m)\u001b[0m\u001b[0;34m\u001b[0m\u001b[0m\n\u001b[0;32m---> 10\u001b[0;31m \u001b[0mbest_model\u001b[0m \u001b[0;34m=\u001b[0m \u001b[0mmytrain\u001b[0m\u001b[0;34m.\u001b[0m\u001b[0mtrain\u001b[0m\u001b[0;34m(\u001b[0m\u001b[0;36m5\u001b[0m\u001b[0;34m)\u001b[0m\u001b[0;34m\u001b[0m\u001b[0m\n\u001b[0m",
      "\u001b[0;32m/data/nas/workspace/jupyter/code/TextRNN/TrainFunc.py\u001b[0m in \u001b[0;36mtrain\u001b[0;34m(self, epoch)\u001b[0m\n\u001b[1;32m     21\u001b[0m             \u001b[0mtrain_acc\u001b[0m \u001b[0;34m=\u001b[0m \u001b[0;36m0\u001b[0m\u001b[0;34m\u001b[0m\u001b[0m\n\u001b[1;32m     22\u001b[0m             \u001b[0mtrain_loss\u001b[0m \u001b[0;34m=\u001b[0m \u001b[0;36m0\u001b[0m\u001b[0;34m\u001b[0m\u001b[0m\n\u001b[0;32m---> 23\u001b[0;31m             \u001b[0;32mfor\u001b[0m \u001b[0mbatch_idx\u001b[0m\u001b[0;34m,\u001b[0m \u001b[0;34m(\u001b[0m\u001b[0mdata\u001b[0m\u001b[0;34m,\u001b[0m \u001b[0m_\u001b[0m\u001b[0;34m,\u001b[0m \u001b[0mlabel\u001b[0m\u001b[0;34m)\u001b[0m \u001b[0;32min\u001b[0m \u001b[0menumerate\u001b[0m\u001b[0;34m(\u001b[0m\u001b[0miter\u001b[0m\u001b[0;34m(\u001b[0m\u001b[0mself\u001b[0m\u001b[0;34m.\u001b[0m\u001b[0mtrain_iter\u001b[0m\u001b[0;34m)\u001b[0m\u001b[0;34m)\u001b[0m\u001b[0;34m:\u001b[0m\u001b[0;34m\u001b[0m\u001b[0m\n\u001b[0m\u001b[1;32m     24\u001b[0m                 \u001b[0mdata\u001b[0m \u001b[0;34m=\u001b[0m \u001b[0mdata\u001b[0m\u001b[0;34m.\u001b[0m\u001b[0mcuda\u001b[0m\u001b[0;34m(\u001b[0m\u001b[0;34m)\u001b[0m\u001b[0;34m\u001b[0m\u001b[0m\n\u001b[1;32m     25\u001b[0m                 \u001b[0mlabel\u001b[0m \u001b[0;34m=\u001b[0m \u001b[0mlabel\u001b[0m\u001b[0;34m.\u001b[0m\u001b[0mcuda\u001b[0m\u001b[0;34m(\u001b[0m\u001b[0;34m)\u001b[0m\u001b[0;34m\u001b[0m\u001b[0m\n",
      "\u001b[0;32m/opt/conda/lib/python3.6/site-packages/torch/utils/data/dataloader.py\u001b[0m in \u001b[0;36m__next__\u001b[0;34m(self)\u001b[0m\n\u001b[1;32m    344\u001b[0m     \u001b[0;32mdef\u001b[0m \u001b[0m__next__\u001b[0m\u001b[0;34m(\u001b[0m\u001b[0mself\u001b[0m\u001b[0;34m)\u001b[0m\u001b[0;34m:\u001b[0m\u001b[0;34m\u001b[0m\u001b[0m\n\u001b[1;32m    345\u001b[0m         \u001b[0mindex\u001b[0m \u001b[0;34m=\u001b[0m \u001b[0mself\u001b[0m\u001b[0;34m.\u001b[0m\u001b[0m_next_index\u001b[0m\u001b[0;34m(\u001b[0m\u001b[0;34m)\u001b[0m  \u001b[0;31m# may raise StopIteration\u001b[0m\u001b[0;34m\u001b[0m\u001b[0m\n\u001b[0;32m--> 346\u001b[0;31m         \u001b[0mdata\u001b[0m \u001b[0;34m=\u001b[0m \u001b[0mself\u001b[0m\u001b[0;34m.\u001b[0m\u001b[0m_dataset_fetcher\u001b[0m\u001b[0;34m.\u001b[0m\u001b[0mfetch\u001b[0m\u001b[0;34m(\u001b[0m\u001b[0mindex\u001b[0m\u001b[0;34m)\u001b[0m  \u001b[0;31m# may raise StopIteration\u001b[0m\u001b[0;34m\u001b[0m\u001b[0m\n\u001b[0m\u001b[1;32m    347\u001b[0m         \u001b[0;32mif\u001b[0m \u001b[0mself\u001b[0m\u001b[0;34m.\u001b[0m\u001b[0m_pin_memory\u001b[0m\u001b[0;34m:\u001b[0m\u001b[0;34m\u001b[0m\u001b[0m\n\u001b[1;32m    348\u001b[0m             \u001b[0mdata\u001b[0m \u001b[0;34m=\u001b[0m \u001b[0m_utils\u001b[0m\u001b[0;34m.\u001b[0m\u001b[0mpin_memory\u001b[0m\u001b[0;34m.\u001b[0m\u001b[0mpin_memory\u001b[0m\u001b[0;34m(\u001b[0m\u001b[0mdata\u001b[0m\u001b[0;34m)\u001b[0m\u001b[0;34m\u001b[0m\u001b[0m\n",
      "\u001b[0;32m/opt/conda/lib/python3.6/site-packages/torch/utils/data/_utils/fetch.py\u001b[0m in \u001b[0;36mfetch\u001b[0;34m(self, possibly_batched_index)\u001b[0m\n\u001b[1;32m     42\u001b[0m     \u001b[0;32mdef\u001b[0m \u001b[0mfetch\u001b[0m\u001b[0;34m(\u001b[0m\u001b[0mself\u001b[0m\u001b[0;34m,\u001b[0m \u001b[0mpossibly_batched_index\u001b[0m\u001b[0;34m)\u001b[0m\u001b[0;34m:\u001b[0m\u001b[0;34m\u001b[0m\u001b[0m\n\u001b[1;32m     43\u001b[0m         \u001b[0;32mif\u001b[0m \u001b[0mself\u001b[0m\u001b[0;34m.\u001b[0m\u001b[0mauto_collation\u001b[0m\u001b[0;34m:\u001b[0m\u001b[0;34m\u001b[0m\u001b[0m\n\u001b[0;32m---> 44\u001b[0;31m             \u001b[0mdata\u001b[0m \u001b[0;34m=\u001b[0m \u001b[0;34m[\u001b[0m\u001b[0mself\u001b[0m\u001b[0;34m.\u001b[0m\u001b[0mdataset\u001b[0m\u001b[0;34m[\u001b[0m\u001b[0midx\u001b[0m\u001b[0;34m]\u001b[0m \u001b[0;32mfor\u001b[0m \u001b[0midx\u001b[0m \u001b[0;32min\u001b[0m \u001b[0mpossibly_batched_index\u001b[0m\u001b[0;34m]\u001b[0m\u001b[0;34m\u001b[0m\u001b[0m\n\u001b[0m\u001b[1;32m     45\u001b[0m         \u001b[0;32melse\u001b[0m\u001b[0;34m:\u001b[0m\u001b[0;34m\u001b[0m\u001b[0m\n\u001b[1;32m     46\u001b[0m             \u001b[0mdata\u001b[0m \u001b[0;34m=\u001b[0m \u001b[0mself\u001b[0m\u001b[0;34m.\u001b[0m\u001b[0mdataset\u001b[0m\u001b[0;34m[\u001b[0m\u001b[0mpossibly_batched_index\u001b[0m\u001b[0;34m]\u001b[0m\u001b[0;34m\u001b[0m\u001b[0m\n",
      "\u001b[0;32m/opt/conda/lib/python3.6/site-packages/torch/utils/data/_utils/fetch.py\u001b[0m in \u001b[0;36m<listcomp>\u001b[0;34m(.0)\u001b[0m\n\u001b[1;32m     42\u001b[0m     \u001b[0;32mdef\u001b[0m \u001b[0mfetch\u001b[0m\u001b[0;34m(\u001b[0m\u001b[0mself\u001b[0m\u001b[0;34m,\u001b[0m \u001b[0mpossibly_batched_index\u001b[0m\u001b[0;34m)\u001b[0m\u001b[0;34m:\u001b[0m\u001b[0;34m\u001b[0m\u001b[0m\n\u001b[1;32m     43\u001b[0m         \u001b[0;32mif\u001b[0m \u001b[0mself\u001b[0m\u001b[0;34m.\u001b[0m\u001b[0mauto_collation\u001b[0m\u001b[0;34m:\u001b[0m\u001b[0;34m\u001b[0m\u001b[0m\n\u001b[0;32m---> 44\u001b[0;31m             \u001b[0mdata\u001b[0m \u001b[0;34m=\u001b[0m \u001b[0;34m[\u001b[0m\u001b[0mself\u001b[0m\u001b[0;34m.\u001b[0m\u001b[0mdataset\u001b[0m\u001b[0;34m[\u001b[0m\u001b[0midx\u001b[0m\u001b[0;34m]\u001b[0m \u001b[0;32mfor\u001b[0m \u001b[0midx\u001b[0m \u001b[0;32min\u001b[0m \u001b[0mpossibly_batched_index\u001b[0m\u001b[0;34m]\u001b[0m\u001b[0;34m\u001b[0m\u001b[0m\n\u001b[0m\u001b[1;32m     45\u001b[0m         \u001b[0;32melse\u001b[0m\u001b[0;34m:\u001b[0m\u001b[0;34m\u001b[0m\u001b[0m\n\u001b[1;32m     46\u001b[0m             \u001b[0mdata\u001b[0m \u001b[0;34m=\u001b[0m \u001b[0mself\u001b[0m\u001b[0;34m.\u001b[0m\u001b[0mdataset\u001b[0m\u001b[0;34m[\u001b[0m\u001b[0mpossibly_batched_index\u001b[0m\u001b[0;34m]\u001b[0m\u001b[0;34m\u001b[0m\u001b[0m\n",
      "\u001b[0;32m/opt/conda/lib/python3.6/site-packages/torch/utils/data/dataset.py\u001b[0m in \u001b[0;36m__getitem__\u001b[0;34m(self, idx)\u001b[0m\n\u001b[1;32m    255\u001b[0m \u001b[0;34m\u001b[0m\u001b[0m\n\u001b[1;32m    256\u001b[0m     \u001b[0;32mdef\u001b[0m \u001b[0m__getitem__\u001b[0m\u001b[0;34m(\u001b[0m\u001b[0mself\u001b[0m\u001b[0;34m,\u001b[0m \u001b[0midx\u001b[0m\u001b[0;34m)\u001b[0m\u001b[0;34m:\u001b[0m\u001b[0;34m\u001b[0m\u001b[0m\n\u001b[0;32m--> 257\u001b[0;31m         \u001b[0;32mreturn\u001b[0m \u001b[0mself\u001b[0m\u001b[0;34m.\u001b[0m\u001b[0mdataset\u001b[0m\u001b[0;34m[\u001b[0m\u001b[0mself\u001b[0m\u001b[0;34m.\u001b[0m\u001b[0mindices\u001b[0m\u001b[0;34m[\u001b[0m\u001b[0midx\u001b[0m\u001b[0;34m]\u001b[0m\u001b[0;34m]\u001b[0m\u001b[0;34m\u001b[0m\u001b[0m\n\u001b[0m\u001b[1;32m    258\u001b[0m \u001b[0;34m\u001b[0m\u001b[0m\n\u001b[1;32m    259\u001b[0m     \u001b[0;32mdef\u001b[0m \u001b[0m__len__\u001b[0m\u001b[0;34m(\u001b[0m\u001b[0mself\u001b[0m\u001b[0;34m)\u001b[0m\u001b[0;34m:\u001b[0m\u001b[0;34m\u001b[0m\u001b[0m\n",
      "\u001b[0;32m/data/nas/workspace/jupyter/code/TextRNN/MyDataset.py\u001b[0m in \u001b[0;36m__getitem__\u001b[0;34m(self, item)\u001b[0m\n\u001b[1;32m     19\u001b[0m         \u001b[0;32mfor\u001b[0m \u001b[0mword\u001b[0m \u001b[0;32min\u001b[0m \u001b[0mself\u001b[0m\u001b[0;34m.\u001b[0m\u001b[0mcorpus\u001b[0m\u001b[0;34m[\u001b[0m\u001b[0mitem\u001b[0m\u001b[0;34m]\u001b[0m\u001b[0;34m:\u001b[0m\u001b[0;34m\u001b[0m\u001b[0m\n\u001b[1;32m     20\u001b[0m             \u001b[0;32mif\u001b[0m \u001b[0mword\u001b[0m \u001b[0;32min\u001b[0m \u001b[0mself\u001b[0m\u001b[0;34m.\u001b[0m\u001b[0mmodel_embedding\u001b[0m\u001b[0;34m.\u001b[0m\u001b[0mword2id\u001b[0m\u001b[0;34m:\u001b[0m\u001b[0;34m\u001b[0m\u001b[0m\n\u001b[0;32m---> 21\u001b[0;31m                 \u001b[0mtemp\u001b[0m\u001b[0;34m.\u001b[0m\u001b[0mappend\u001b[0m\u001b[0;34m(\u001b[0m\u001b[0mself\u001b[0m\u001b[0;34m.\u001b[0m\u001b[0mmodel_embedding\u001b[0m\u001b[0;34m.\u001b[0m\u001b[0mword2id\u001b[0m\u001b[0;34m[\u001b[0m\u001b[0mword\u001b[0m\u001b[0;34m]\u001b[0m\u001b[0;34m)\u001b[0m\u001b[0;34m\u001b[0m\u001b[0m\n\u001b[0m\u001b[1;32m     22\u001b[0m             \u001b[0;32melse\u001b[0m\u001b[0;34m:\u001b[0m\u001b[0;34m\u001b[0m\u001b[0m\n\u001b[1;32m     23\u001b[0m                 \u001b[0mtemp\u001b[0m\u001b[0;34m.\u001b[0m\u001b[0mappend\u001b[0m\u001b[0;34m(\u001b[0m\u001b[0mself\u001b[0m\u001b[0;34m.\u001b[0m\u001b[0mmodel_embedding\u001b[0m\u001b[0;34m.\u001b[0m\u001b[0mword2id\u001b[0m\u001b[0;34m[\u001b[0m\u001b[0;34m'<UNKNOWN>'\u001b[0m\u001b[0;34m]\u001b[0m\u001b[0;34m)\u001b[0m\u001b[0;34m\u001b[0m\u001b[0m\n",
      "\u001b[0;31mKeyboardInterrupt\u001b[0m: "
     ]
    }
   ],
   "source": [
    "# 建立model\n",
    "model=TextRNN(model_embedding.dict_length, embedding_dim=300,hidden_size=100, output_size=14, dropout=0.5)\n",
    "model.init_weights(model_embedding.embedding, is_static=False)\n",
    "model = model.cuda()\n",
    "criterion = nn.NLLLoss()\n",
    "opt = torch.optim.Adam(model.parameters(), lr=1e-4)\n",
    "\n",
    "# 开始训练\n",
    "mytrain = TrainFunc(model, criterion, opt, loader.train_loader, loader.valid_loader, loader.test_loader)\n",
    "best_model = mytrain.train(5)"
   ]
  },
  {
   "cell_type": "code",
   "execution_count": null,
   "metadata": {
    "uuid": "34f3b795-2846-4b4c-b66a-207deb1a29f0"
   },
   "outputs": [],
   "source": []
  }
 ],
 "metadata": {
  "kernelspec": {
   "display_name": "PyTorch",
   "language": "python",
   "name": "pytorch"
  },
  "language_info": {
   "codemirror_mode": {
    "name": "ipython",
    "version": 3
   },
   "file_extension": ".py",
   "mimetype": "text/x-python",
   "name": "python",
   "nbconvert_exporter": "python",
   "pygments_lexer": "ipython3",
   "version": "3.6.4"
  }
 },
 "nbformat": 4,
 "nbformat_minor": 2
}
