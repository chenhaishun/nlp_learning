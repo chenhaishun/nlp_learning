{
 "metadata": {
  "language_info": {
   "codemirror_mode": {
    "name": "ipython",
    "version": 3
   },
   "file_extension": ".py",
   "mimetype": "text/x-python",
   "name": "python",
   "nbconvert_exporter": "python",
   "pygments_lexer": "ipython3",
   "version": "3.7.6-final"
  },
  "orig_nbformat": 2,
  "kernelspec": {
   "name": "python3",
   "display_name": "Python 3"
  }
 },
 "nbformat": 4,
 "nbformat_minor": 2,
 "cells": [
  {
   "cell_type": "code",
   "execution_count": 1,
   "metadata": {},
   "outputs": [],
   "source": [
    "import pandas as pd\n",
    "import gensim\n",
    "import torch\n",
    "import torch.nn as nn\n",
    "import torch.nn.functional as F\n",
    "from torch.autograd import Variable\n",
    "from gensim.models.word2vec import Word2Vec\n",
    "import multiprocessing\n",
    "import logging"
   ]
  },
  {
   "cell_type": "code",
   "execution_count": 2,
   "metadata": {},
   "outputs": [],
   "source": [
    "data_root={\n",
    "    \"train_path\":'../data/train_torch.csv',\n",
    "    \"test_path\":\"../data/test_a.csv\",\n",
    "    \"sub_path\":\"../data/test_a_sample_submit.csv\",\n",
    "    \"fast_path\":'../data/train_for_fast.csv'\n",
    "}\n",
    "train=pd.read_csv(data_root[\"train_path\"])\n",
    "test=pd.read_csv(data_root[\"test_path\"])\n",
    "all_df=train.append(test)\n",
    "all_df[\"corpus\"]=all_df.text.apply(lambda x:x.split(\" \"))\n",
    "del train\n",
    "del test\n",
    "corpus=all_df.corpus.values"
   ]
  },
  {
   "cell_type": "code",
   "execution_count": 10,
   "metadata": {},
   "outputs": [],
   "source": [
    "def hashfxn(x):\n",
    "    return int(x)"
   ]
  },
  {
   "cell_type": "code",
   "execution_count": 11,
   "metadata": {
    "tags": [
     "outputPrepend"
    ]
   },
   "outputs": [
    {
     "output_type": "stream",
     "name": "stderr",
     "text": "n_qsize 12, out_qsize 0\n2020-07-26 17:36:04,087 : INFO : EPOCH 5 - PROGRESS: at 71.88% examples, 332839 words/s, in_qsize 11, out_qsize 0\n2020-07-26 17:36:05,124 : INFO : EPOCH 5 - PROGRESS: at 72.05% examples, 332828 words/s, in_qsize 11, out_qsize 0\n2020-07-26 17:36:06,145 : INFO : EPOCH 5 - PROGRESS: at 72.21% examples, 332795 words/s, in_qsize 11, out_qsize 0\n2020-07-26 17:36:07,147 : INFO : EPOCH 5 - PROGRESS: at 72.37% examples, 332779 words/s, in_qsize 11, out_qsize 0\n2020-07-26 17:36:08,168 : INFO : EPOCH 5 - PROGRESS: at 72.53% examples, 332749 words/s, in_qsize 11, out_qsize 0\n2020-07-26 17:36:09,219 : INFO : EPOCH 5 - PROGRESS: at 72.71% examples, 332682 words/s, in_qsize 11, out_qsize 0\n2020-07-26 17:36:10,268 : INFO : EPOCH 5 - PROGRESS: at 72.87% examples, 332667 words/s, in_qsize 11, out_qsize 0\n2020-07-26 17:36:11,281 : INFO : EPOCH 5 - PROGRESS: at 73.05% examples, 332645 words/s, in_qsize 11, out_qsize 0\n2020-07-26 17:36:12,303 : INFO : EPOCH 5 - PROGRESS: at 73.20% examples, 332602 words/s, in_qsize 11, out_qsize 0\n2020-07-26 17:36:13,312 : INFO : EPOCH 5 - PROGRESS: at 73.37% examples, 332594 words/s, in_qsize 11, out_qsize 0\n2020-07-26 17:36:14,322 : INFO : EPOCH 5 - PROGRESS: at 73.52% examples, 332572 words/s, in_qsize 11, out_qsize 0\n2020-07-26 17:36:15,338 : INFO : EPOCH 5 - PROGRESS: at 73.68% examples, 332530 words/s, in_qsize 11, out_qsize 0\n2020-07-26 17:36:16,389 : INFO : EPOCH 5 - PROGRESS: at 73.86% examples, 332477 words/s, in_qsize 11, out_qsize 0\n2020-07-26 17:36:17,392 : INFO : EPOCH 5 - PROGRESS: at 74.04% examples, 332470 words/s, in_qsize 11, out_qsize 0\n2020-07-26 17:36:18,434 : INFO : EPOCH 5 - PROGRESS: at 74.21% examples, 332425 words/s, in_qsize 11, out_qsize 0\n2020-07-26 17:36:19,478 : INFO : EPOCH 5 - PROGRESS: at 74.37% examples, 332408 words/s, in_qsize 11, out_qsize 0\n2020-07-26 17:36:20,498 : INFO : EPOCH 5 - PROGRESS: at 74.55% examples, 332354 words/s, in_qsize 11, out_qsize 0\n2020-07-26 17:36:21,499 : INFO : EPOCH 5 - PROGRESS: at 74.72% examples, 332338 words/s, in_qsize 11, out_qsize 0\n2020-07-26 17:36:22,505 : INFO : EPOCH 5 - PROGRESS: at 74.90% examples, 332345 words/s, in_qsize 11, out_qsize 0\n2020-07-26 17:36:23,515 : INFO : EPOCH 5 - PROGRESS: at 75.08% examples, 332309 words/s, in_qsize 11, out_qsize 0\n2020-07-26 17:36:24,589 : INFO : EPOCH 5 - PROGRESS: at 75.24% examples, 332252 words/s, in_qsize 11, out_qsize 0\n2020-07-26 17:36:25,592 : INFO : EPOCH 5 - PROGRESS: at 75.41% examples, 332207 words/s, in_qsize 11, out_qsize 0\n2020-07-26 17:36:26,605 : INFO : EPOCH 5 - PROGRESS: at 75.58% examples, 332209 words/s, in_qsize 11, out_qsize 0\n2020-07-26 17:36:27,605 : INFO : EPOCH 5 - PROGRESS: at 75.76% examples, 332207 words/s, in_qsize 11, out_qsize 0\n2020-07-26 17:36:28,648 : INFO : EPOCH 5 - PROGRESS: at 75.93% examples, 332146 words/s, in_qsize 11, out_qsize 0\n2020-07-26 17:36:29,676 : INFO : EPOCH 5 - PROGRESS: at 76.10% examples, 332134 words/s, in_qsize 11, out_qsize 0\n2020-07-26 17:36:30,699 : INFO : EPOCH 5 - PROGRESS: at 76.27% examples, 332117 words/s, in_qsize 11, out_qsize 0\n2020-07-26 17:36:31,702 : INFO : EPOCH 5 - PROGRESS: at 76.44% examples, 332092 words/s, in_qsize 12, out_qsize 0\n2020-07-26 17:36:32,710 : INFO : EPOCH 5 - PROGRESS: at 76.60% examples, 332065 words/s, in_qsize 11, out_qsize 0\n2020-07-26 17:36:33,737 : INFO : EPOCH 5 - PROGRESS: at 76.75% examples, 332013 words/s, in_qsize 11, out_qsize 0\n2020-07-26 17:36:34,773 : INFO : EPOCH 5 - PROGRESS: at 76.93% examples, 331998 words/s, in_qsize 11, out_qsize 0\n2020-07-26 17:36:35,776 : INFO : EPOCH 5 - PROGRESS: at 77.09% examples, 331977 words/s, in_qsize 11, out_qsize 0\n2020-07-26 17:36:36,835 : INFO : EPOCH 5 - PROGRESS: at 77.25% examples, 331931 words/s, in_qsize 11, out_qsize 0\n2020-07-26 17:36:37,870 : INFO : EPOCH 5 - PROGRESS: at 77.42% examples, 331907 words/s, in_qsize 11, out_qsize 0\n2020-07-26 17:36:38,873 : INFO : EPOCH 5 - PROGRESS: at 77.59% examples, 331903 words/s, in_qsize 11, out_qsize 0\n2020-07-26 17:36:39,893 : INFO : EPOCH 5 - PROGRESS: at 77.76% examples, 331852 words/s, in_qsize 11, out_qsize 0\n2020-07-26 17:36:40,898 : INFO : EPOCH 5 - PROGRESS: at 77.93% examples, 331839 words/s, in_qsize 11, out_qsize 0\n2020-07-26 17:36:41,950 : INFO : EPOCH 5 - PROGRESS: at 78.09% examples, 331781 words/s, in_qsize 11, out_qsize 0\n2020-07-26 17:36:42,981 : INFO : EPOCH 5 - PROGRESS: at 78.26% examples, 331778 words/s, in_qsize 11, out_qsize 0\n2020-07-26 17:36:43,991 : INFO : EPOCH 5 - PROGRESS: at 78.44% examples, 331759 words/s, in_qsize 11, out_qsize 0\n2020-07-26 17:36:45,013 : INFO : EPOCH 5 - PROGRESS: at 78.60% examples, 331729 words/s, in_qsize 11, out_qsize 0\n2020-07-26 17:36:46,017 : INFO : EPOCH 5 - PROGRESS: at 78.78% examples, 331715 words/s, in_qsize 11, out_qsize 0\n2020-07-26 17:36:47,032 : INFO : EPOCH 5 - PROGRESS: at 78.95% examples, 331698 words/s, in_qsize 11, out_qsize 0\n2020-07-26 17:36:48,093 : INFO : EPOCH 5 - PROGRESS: at 79.13% examples, 331645 words/s, in_qsize 11, out_qsize 0\n2020-07-26 17:36:49,094 : INFO : EPOCH 5 - PROGRESS: at 79.29% examples, 331629 words/s, in_qsize 11, out_qsize 0\n2020-07-26 17:36:50,131 : INFO : EPOCH 5 - PROGRESS: at 79.46% examples, 331594 words/s, in_qsize 11, out_qsize 0\n2020-07-26 17:36:51,142 : INFO : EPOCH 5 - PROGRESS: at 79.62% examples, 331554 words/s, in_qsize 11, out_qsize 0\n2020-07-26 17:36:52,149 : INFO : EPOCH 5 - PROGRESS: at 79.79% examples, 331531 words/s, in_qsize 11, out_qsize 0\n2020-07-26 17:36:53,193 : INFO : EPOCH 5 - PROGRESS: at 79.96% examples, 331505 words/s, in_qsize 10, out_qsize 1\n2020-07-26 17:36:54,202 : INFO : EPOCH 5 - PROGRESS: at 80.13% examples, 331494 words/s, in_qsize 11, out_qsize 0\n2020-07-26 17:36:55,236 : INFO : EPOCH 5 - PROGRESS: at 80.32% examples, 331475 words/s, in_qsize 11, out_qsize 0\n2020-07-26 17:36:56,242 : INFO : EPOCH 5 - PROGRESS: at 80.48% examples, 331453 words/s, in_qsize 11, out_qsize 0\n2020-07-26 17:36:57,252 : INFO : EPOCH 5 - PROGRESS: at 80.64% examples, 331425 words/s, in_qsize 11, out_qsize 0\n2020-07-26 17:36:58,267 : INFO : EPOCH 5 - PROGRESS: at 80.81% examples, 331404 words/s, in_qsize 11, out_qsize 0\n2020-07-26 17:36:59,271 : INFO : EPOCH 5 - PROGRESS: at 80.98% examples, 331361 words/s, in_qsize 11, out_qsize 0\n2020-07-26 17:37:00,294 : INFO : EPOCH 5 - PROGRESS: at 81.16% examples, 331357 words/s, in_qsize 11, out_qsize 0\n2020-07-26 17:37:01,305 : INFO : EPOCH 5 - PROGRESS: at 81.34% examples, 331338 words/s, in_qsize 11, out_qsize 0\n2020-07-26 17:37:02,315 : INFO : EPOCH 5 - PROGRESS: at 81.50% examples, 331303 words/s, in_qsize 11, out_qsize 0\n2020-07-26 17:37:03,321 : INFO : EPOCH 5 - PROGRESS: at 81.67% examples, 331296 words/s, in_qsize 11, out_qsize 0\n2020-07-26 17:37:04,321 : INFO : EPOCH 5 - PROGRESS: at 81.83% examples, 331263 words/s, in_qsize 11, out_qsize 0\n2020-07-26 17:37:05,328 : INFO : EPOCH 5 - PROGRESS: at 81.99% examples, 331247 words/s, in_qsize 11, out_qsize 0\n2020-07-26 17:37:06,399 : INFO : EPOCH 5 - PROGRESS: at 82.16% examples, 331212 words/s, in_qsize 11, out_qsize 0\n2020-07-26 17:37:07,414 : INFO : EPOCH 5 - PROGRESS: at 82.32% examples, 331188 words/s, in_qsize 11, out_qsize 0\n2020-07-26 17:37:08,442 : INFO : EPOCH 5 - PROGRESS: at 82.49% examples, 331180 words/s, in_qsize 11, out_qsize 0\n2020-07-26 17:37:09,459 : INFO : EPOCH 5 - PROGRESS: at 82.66% examples, 331148 words/s, in_qsize 11, out_qsize 0\n2020-07-26 17:37:10,459 : INFO : EPOCH 5 - PROGRESS: at 82.81% examples, 331145 words/s, in_qsize 11, out_qsize 0\n2020-07-26 17:37:11,469 : INFO : EPOCH 5 - PROGRESS: at 82.97% examples, 331103 words/s, in_qsize 11, out_qsize 0\n2020-07-26 17:37:12,511 : INFO : EPOCH 5 - PROGRESS: at 83.13% examples, 331077 words/s, in_qsize 11, out_qsize 0\n2020-07-26 17:37:13,532 : INFO : EPOCH 5 - PROGRESS: at 83.31% examples, 331038 words/s, in_qsize 11, out_qsize 0\n2020-07-26 17:37:14,536 : INFO : EPOCH 5 - PROGRESS: at 83.48% examples, 331037 words/s, in_qsize 11, out_qsize 0\n2020-07-26 17:37:15,552 : INFO : EPOCH 5 - PROGRESS: at 83.64% examples, 331028 words/s, in_qsize 11, out_qsize 0\n2020-07-26 17:37:16,556 : INFO : EPOCH 5 - PROGRESS: at 83.80% examples, 330992 words/s, in_qsize 11, out_qsize 0\n2020-07-26 17:37:17,572 : INFO : EPOCH 5 - PROGRESS: at 83.96% examples, 330976 words/s, in_qsize 11, out_qsize 0\n2020-07-26 17:37:18,601 : INFO : EPOCH 5 - PROGRESS: at 84.13% examples, 330951 words/s, in_qsize 11, out_qsize 0\n2020-07-26 17:37:19,604 : INFO : EPOCH 5 - PROGRESS: at 84.30% examples, 330911 words/s, in_qsize 11, out_qsize 0\n2020-07-26 17:37:20,611 : INFO : EPOCH 5 - PROGRESS: at 84.46% examples, 330890 words/s, in_qsize 11, out_qsize 0\n2020-07-26 17:37:21,612 : INFO : EPOCH 5 - PROGRESS: at 84.63% examples, 330888 words/s, in_qsize 11, out_qsize 0\n2020-07-26 17:37:22,613 : INFO : EPOCH 5 - PROGRESS: at 84.79% examples, 330879 words/s, in_qsize 11, out_qsize 0\n2020-07-26 17:37:23,613 : INFO : EPOCH 5 - PROGRESS: at 84.95% examples, 330847 words/s, in_qsize 11, out_qsize 0\n2020-07-26 17:37:24,641 : INFO : EPOCH 5 - PROGRESS: at 85.11% examples, 330812 words/s, in_qsize 11, out_qsize 0\n2020-07-26 17:37:25,670 : INFO : EPOCH 5 - PROGRESS: at 85.28% examples, 330781 words/s, in_qsize 11, out_qsize 0\n2020-07-26 17:37:26,687 : INFO : EPOCH 5 - PROGRESS: at 85.45% examples, 330758 words/s, in_qsize 11, out_qsize 0\n2020-07-26 17:37:27,715 : INFO : EPOCH 5 - PROGRESS: at 85.64% examples, 330755 words/s, in_qsize 11, out_qsize 0\n2020-07-26 17:37:28,734 : INFO : EPOCH 5 - PROGRESS: at 85.79% examples, 330728 words/s, in_qsize 11, out_qsize 0\n2020-07-26 17:37:29,739 : INFO : EPOCH 5 - PROGRESS: at 85.96% examples, 330718 words/s, in_qsize 12, out_qsize 0\n2020-07-26 17:37:30,777 : INFO : EPOCH 5 - PROGRESS: at 86.14% examples, 330707 words/s, in_qsize 11, out_qsize 0\n2020-07-26 17:37:31,783 : INFO : EPOCH 5 - PROGRESS: at 86.30% examples, 330689 words/s, in_qsize 11, out_qsize 0\n2020-07-26 17:37:32,816 : INFO : EPOCH 5 - PROGRESS: at 86.45% examples, 330654 words/s, in_qsize 11, out_qsize 0\n2020-07-26 17:37:33,837 : INFO : EPOCH 5 - PROGRESS: at 86.62% examples, 330628 words/s, in_qsize 11, out_qsize 0\n2020-07-26 17:37:34,895 : INFO : EPOCH 5 - PROGRESS: at 86.79% examples, 330609 words/s, in_qsize 11, out_qsize 0\n2020-07-26 17:37:35,910 : INFO : EPOCH 5 - PROGRESS: at 86.96% examples, 330601 words/s, in_qsize 11, out_qsize 0\n2020-07-26 17:37:36,913 : INFO : EPOCH 5 - PROGRESS: at 87.13% examples, 330584 words/s, in_qsize 11, out_qsize 0\n2020-07-26 17:37:38,007 : INFO : EPOCH 5 - PROGRESS: at 87.30% examples, 330535 words/s, in_qsize 11, out_qsize 0\n2020-07-26 17:37:39,057 : INFO : EPOCH 5 - PROGRESS: at 87.46% examples, 330438 words/s, in_qsize 11, out_qsize 0\n2020-07-26 17:37:40,118 : INFO : EPOCH 5 - PROGRESS: at 87.63% examples, 330410 words/s, in_qsize 11, out_qsize 0\n2020-07-26 17:37:41,121 : INFO : EPOCH 5 - PROGRESS: at 87.78% examples, 330345 words/s, in_qsize 11, out_qsize 0\n2020-07-26 17:37:42,127 : INFO : EPOCH 5 - PROGRESS: at 87.95% examples, 330337 words/s, in_qsize 11, out_qsize 0\n2020-07-26 17:37:43,153 : INFO : EPOCH 5 - PROGRESS: at 88.11% examples, 330316 words/s, in_qsize 11, out_qsize 0\n2020-07-26 17:37:44,162 : INFO : EPOCH 5 - PROGRESS: at 88.28% examples, 330311 words/s, in_qsize 11, out_qsize 0\n2020-07-26 17:37:45,161 : INFO : EPOCH 5 - PROGRESS: at 88.45% examples, 330293 words/s, in_qsize 11, out_qsize 0\n2020-07-26 17:37:46,230 : INFO : EPOCH 5 - PROGRESS: at 88.60% examples, 330266 words/s, in_qsize 11, out_qsize 0\n2020-07-26 17:37:47,290 : INFO : EPOCH 5 - PROGRESS: at 88.77% examples, 330243 words/s, in_qsize 11, out_qsize 0\n2020-07-26 17:37:48,325 : INFO : EPOCH 5 - PROGRESS: at 88.95% examples, 330237 words/s, in_qsize 11, out_qsize 0\n2020-07-26 17:37:49,396 : INFO : EPOCH 5 - PROGRESS: at 89.13% examples, 330208 words/s, in_qsize 11, out_qsize 0\n2020-07-26 17:37:50,432 : INFO : EPOCH 5 - PROGRESS: at 89.30% examples, 330200 words/s, in_qsize 11, out_qsize 0\n2020-07-26 17:37:51,474 : INFO : EPOCH 5 - PROGRESS: at 89.46% examples, 330187 words/s, in_qsize 11, out_qsize 0\n2020-07-26 17:37:52,481 : INFO : EPOCH 5 - PROGRESS: at 89.65% examples, 330190 words/s, in_qsize 11, out_qsize 0\n2020-07-26 17:37:53,484 : INFO : EPOCH 5 - PROGRESS: at 89.82% examples, 330170 words/s, in_qsize 11, out_qsize 0\n2020-07-26 17:37:54,516 : INFO : EPOCH 5 - PROGRESS: at 89.99% examples, 330133 words/s, in_qsize 11, out_qsize 0\n2020-07-26 17:37:55,536 : INFO : EPOCH 5 - PROGRESS: at 90.18% examples, 330127 words/s, in_qsize 11, out_qsize 0\n2020-07-26 17:37:56,576 : INFO : EPOCH 5 - PROGRESS: at 90.35% examples, 330108 words/s, in_qsize 11, out_qsize 0\n2020-07-26 17:37:57,583 : INFO : EPOCH 5 - PROGRESS: at 90.52% examples, 330107 words/s, in_qsize 11, out_qsize 0\n2020-07-26 17:37:58,637 : INFO : EPOCH 5 - PROGRESS: at 90.70% examples, 330074 words/s, in_qsize 11, out_qsize 0\n2020-07-26 17:37:59,671 : INFO : EPOCH 5 - PROGRESS: at 90.88% examples, 330061 words/s, in_qsize 11, out_qsize 0\n2020-07-26 17:38:00,689 : INFO : EPOCH 5 - PROGRESS: at 91.05% examples, 330063 words/s, in_qsize 12, out_qsize 0\n2020-07-26 17:38:01,699 : INFO : EPOCH 5 - PROGRESS: at 91.21% examples, 330040 words/s, in_qsize 11, out_qsize 0\n2020-07-26 17:38:02,705 : INFO : EPOCH 5 - PROGRESS: at 91.38% examples, 330026 words/s, in_qsize 11, out_qsize 0\n2020-07-26 17:38:03,706 : INFO : EPOCH 5 - PROGRESS: at 91.55% examples, 330023 words/s, in_qsize 11, out_qsize 0\n2020-07-26 17:38:04,722 : INFO : EPOCH 5 - PROGRESS: at 91.70% examples, 329990 words/s, in_qsize 11, out_qsize 0\n2020-07-26 17:38:05,738 : INFO : EPOCH 5 - PROGRESS: at 91.87% examples, 329974 words/s, in_qsize 11, out_qsize 0\n2020-07-26 17:38:06,744 : INFO : EPOCH 5 - PROGRESS: at 92.02% examples, 329967 words/s, in_qsize 11, out_qsize 0\n2020-07-26 17:38:07,802 : INFO : EPOCH 5 - PROGRESS: at 92.18% examples, 329930 words/s, in_qsize 11, out_qsize 0\n2020-07-26 17:38:08,835 : INFO : EPOCH 5 - PROGRESS: at 92.35% examples, 329911 words/s, in_qsize 11, out_qsize 0\n2020-07-26 17:38:09,858 : INFO : EPOCH 5 - PROGRESS: at 92.53% examples, 329916 words/s, in_qsize 11, out_qsize 0\n2020-07-26 17:38:10,877 : INFO : EPOCH 5 - PROGRESS: at 92.71% examples, 329897 words/s, in_qsize 11, out_qsize 0\n2020-07-26 17:38:11,889 : INFO : EPOCH 5 - PROGRESS: at 92.88% examples, 329883 words/s, in_qsize 11, out_qsize 0\n2020-07-26 17:38:12,920 : INFO : EPOCH 5 - PROGRESS: at 93.04% examples, 329822 words/s, in_qsize 12, out_qsize 0\n2020-07-26 17:38:13,957 : INFO : EPOCH 5 - PROGRESS: at 93.21% examples, 329800 words/s, in_qsize 11, out_qsize 0\n2020-07-26 17:38:14,983 : INFO : EPOCH 5 - PROGRESS: at 93.38% examples, 329783 words/s, in_qsize 11, out_qsize 0\n2020-07-26 17:38:16,043 : INFO : EPOCH 5 - PROGRESS: at 93.54% examples, 329763 words/s, in_qsize 11, out_qsize 0\n2020-07-26 17:38:17,049 : INFO : EPOCH 5 - PROGRESS: at 93.72% examples, 329770 words/s, in_qsize 11, out_qsize 0\n2020-07-26 17:38:18,054 : INFO : EPOCH 5 - PROGRESS: at 93.88% examples, 329752 words/s, in_qsize 11, out_qsize 0\n2020-07-26 17:38:19,059 : INFO : EPOCH 5 - PROGRESS: at 94.04% examples, 329721 words/s, in_qsize 11, out_qsize 0\n2020-07-26 17:38:20,069 : INFO : EPOCH 5 - PROGRESS: at 94.21% examples, 329696 words/s, in_qsize 11, out_qsize 0\n2020-07-26 17:38:21,096 : INFO : EPOCH 5 - PROGRESS: at 94.39% examples, 329694 words/s, in_qsize 11, out_qsize 0\n2020-07-26 17:38:22,121 : INFO : EPOCH 5 - PROGRESS: at 94.56% examples, 329673 words/s, in_qsize 11, out_qsize 0\n2020-07-26 17:38:23,129 : INFO : EPOCH 5 - PROGRESS: at 94.74% examples, 329669 words/s, in_qsize 11, out_qsize 0\n2020-07-26 17:38:24,146 : INFO : EPOCH 5 - PROGRESS: at 94.91% examples, 329651 words/s, in_qsize 11, out_qsize 0\n2020-07-26 17:38:25,181 : INFO : EPOCH 5 - PROGRESS: at 95.08% examples, 329637 words/s, in_qsize 11, out_qsize 0\n2020-07-26 17:38:26,229 : INFO : EPOCH 5 - PROGRESS: at 95.22% examples, 329611 words/s, in_qsize 11, out_qsize 0\n2020-07-26 17:38:27,231 : INFO : EPOCH 5 - PROGRESS: at 95.40% examples, 329616 words/s, in_qsize 10, out_qsize 1\n2020-07-26 17:38:28,265 : INFO : EPOCH 5 - PROGRESS: at 95.56% examples, 329569 words/s, in_qsize 11, out_qsize 0\n2020-07-26 17:38:29,265 : INFO : EPOCH 5 - PROGRESS: at 95.73% examples, 329573 words/s, in_qsize 11, out_qsize 0\n2020-07-26 17:38:30,306 : INFO : EPOCH 5 - PROGRESS: at 95.91% examples, 329559 words/s, in_qsize 11, out_qsize 0\n2020-07-26 17:38:31,314 : INFO : EPOCH 5 - PROGRESS: at 96.08% examples, 329549 words/s, in_qsize 11, out_qsize 0\n2020-07-26 17:38:32,324 : INFO : EPOCH 5 - PROGRESS: at 96.25% examples, 329520 words/s, in_qsize 11, out_qsize 0\n2020-07-26 17:38:33,379 : INFO : EPOCH 5 - PROGRESS: at 96.43% examples, 329504 words/s, in_qsize 11, out_qsize 0\n2020-07-26 17:38:34,425 : INFO : EPOCH 5 - PROGRESS: at 96.60% examples, 329498 words/s, in_qsize 11, out_qsize 0\n2020-07-26 17:38:35,429 : INFO : EPOCH 5 - PROGRESS: at 96.77% examples, 329496 words/s, in_qsize 11, out_qsize 0\n2020-07-26 17:38:36,454 : INFO : EPOCH 5 - PROGRESS: at 96.94% examples, 329467 words/s, in_qsize 11, out_qsize 0\n2020-07-26 17:38:37,504 : INFO : EPOCH 5 - PROGRESS: at 97.10% examples, 329441 words/s, in_qsize 11, out_qsize 0\n2020-07-26 17:38:38,506 : INFO : EPOCH 5 - PROGRESS: at 97.27% examples, 329454 words/s, in_qsize 11, out_qsize 0\n2020-07-26 17:38:39,525 : INFO : EPOCH 5 - PROGRESS: at 97.42% examples, 329401 words/s, in_qsize 11, out_qsize 0\n2020-07-26 17:38:40,529 : INFO : EPOCH 5 - PROGRESS: at 97.61% examples, 329424 words/s, in_qsize 11, out_qsize 0\n2020-07-26 17:38:41,538 : INFO : EPOCH 5 - PROGRESS: at 97.77% examples, 329406 words/s, in_qsize 11, out_qsize 0\n2020-07-26 17:38:42,540 : INFO : EPOCH 5 - PROGRESS: at 97.94% examples, 329385 words/s, in_qsize 11, out_qsize 0\n2020-07-26 17:38:43,558 : INFO : EPOCH 5 - PROGRESS: at 98.10% examples, 329374 words/s, in_qsize 11, out_qsize 0\n2020-07-26 17:38:44,574 : INFO : EPOCH 5 - PROGRESS: at 98.27% examples, 329340 words/s, in_qsize 11, out_qsize 0\n2020-07-26 17:38:45,576 : INFO : EPOCH 5 - PROGRESS: at 98.45% examples, 329342 words/s, in_qsize 11, out_qsize 0\n2020-07-26 17:38:46,579 : INFO : EPOCH 5 - PROGRESS: at 98.62% examples, 329331 words/s, in_qsize 11, out_qsize 0\n2020-07-26 17:38:47,626 : INFO : EPOCH 5 - PROGRESS: at 98.77% examples, 329301 words/s, in_qsize 11, out_qsize 0\n2020-07-26 17:38:48,659 : INFO : EPOCH 5 - PROGRESS: at 98.94% examples, 329294 words/s, in_qsize 12, out_qsize 1\n2020-07-26 17:38:49,667 : INFO : EPOCH 5 - PROGRESS: at 99.09% examples, 329280 words/s, in_qsize 11, out_qsize 0\n2020-07-26 17:38:50,671 : INFO : EPOCH 5 - PROGRESS: at 99.26% examples, 329260 words/s, in_qsize 11, out_qsize 0\n2020-07-26 17:38:51,675 : INFO : EPOCH 5 - PROGRESS: at 99.44% examples, 329251 words/s, in_qsize 11, out_qsize 0\n2020-07-26 17:38:52,685 : INFO : EPOCH 5 - PROGRESS: at 99.61% examples, 329243 words/s, in_qsize 11, out_qsize 0\n2020-07-26 17:38:53,724 : INFO : EPOCH 5 - PROGRESS: at 99.78% examples, 329224 words/s, in_qsize 11, out_qsize 0\n2020-07-26 17:38:54,740 : INFO : EPOCH 5 - PROGRESS: at 99.95% examples, 329211 words/s, in_qsize 10, out_qsize 0\n2020-07-26 17:38:54,849 : INFO : worker thread finished; awaiting finish of 5 more threads\n2020-07-26 17:38:54,877 : INFO : worker thread finished; awaiting finish of 4 more threads\n2020-07-26 17:38:54,902 : INFO : worker thread finished; awaiting finish of 3 more threads\n2020-07-26 17:38:54,910 : INFO : worker thread finished; awaiting finish of 2 more threads\n2020-07-26 17:38:54,914 : INFO : worker thread finished; awaiting finish of 1 more threads\n2020-07-26 17:38:54,930 : INFO : worker thread finished; awaiting finish of 0 more threads\n2020-07-26 17:38:54,931 : INFO : EPOCH - 5 : training on 226933670 raw words (194655478 effective words) took 591.2s, 329241 effective words/s\n2020-07-26 17:38:54,932 : INFO : training on a 1134668350 raw words (973260878 effective words) took 2761.1s, 352490 effective words/s\n"
    }
   ],
   "source": [
    "logging.basicConfig(format='%(asctime)s : %(levelname)s : %(message)s', level=logging.INFO)\n",
    "model = Word2Vec(corpus, workers=multiprocessing.cpu_count(), size=300,sg=1,hs=0,negative=5,hashfxn=hashfxn,min_count=3,iter=5)"
   ]
  },
  {
   "cell_type": "code",
   "execution_count": 14,
   "metadata": {
    "tags": []
   },
   "outputs": [
    {
     "output_type": "stream",
     "name": "stderr",
     "text": "2020-07-26 17:43:05,906 : INFO : storing 6403x300 projection weights into ../data/word2vec.bin\n"
    }
   ],
   "source": [
    "model.wv.save_word2vec_format(\"../data/word2vec.bin\",binary=True)"
   ]
  },
  {
   "cell_type": "code",
   "execution_count": 20,
   "metadata": {},
   "outputs": [
    {
     "output_type": "execute_result",
     "data": {
      "text/plain": "array([-1.53083116e-01, -1.65168107e-01, -1.14538588e-01, -2.96023637e-01,\n        1.04653686e-01, -9.05432478e-02,  2.72936225e-01, -4.46524143e-01,\n        6.59597963e-02, -2.46210724e-01,  1.72237501e-01,  1.50388509e-01,\n        1.53283671e-01,  2.09666878e-01, -1.43568620e-01,  3.82081181e-01,\n        3.00739080e-01,  1.81152925e-01,  2.84852266e-01, -1.16418034e-01,\n        8.53189677e-02, -1.43633619e-01, -2.59964517e-03, -2.21348017e-01,\n        5.69551051e-01, -2.46603757e-01, -3.75607461e-01, -2.60146439e-01,\n        7.42543936e-02, -7.39260018e-02, -4.34153318e-01, -2.12389097e-01,\n       -9.47251171e-02,  5.25376648e-02,  5.09946384e-02, -3.49082142e-01,\n        6.09502316e-01,  3.19522172e-01, -2.54726112e-01, -4.14000563e-02,\n        1.21117927e-01,  4.55453813e-01,  3.83818954e-01,  3.51855099e-01,\n       -8.22244212e-02, -5.67942001e-02, -5.27803078e-02,  1.35238200e-01,\n        5.82897961e-02, -1.15042493e-01,  1.99435875e-01,  3.49971235e-01,\n       -9.40208286e-02,  3.76871943e-01,  1.53041352e-02, -1.06949002e-01,\n        3.56154650e-01, -1.32069513e-01, -6.97048977e-02, -3.09997350e-01,\n       -8.01757872e-02, -3.54519626e-03, -6.27342835e-02, -2.19572842e-01,\n        1.30240127e-01, -1.38667643e-01, -3.95252854e-02,  2.30297342e-01,\n       -1.04650453e-01, -9.14283842e-02,  2.52572060e-01,  1.90568998e-01,\n        1.09834097e-01,  1.29771903e-01, -9.58415940e-02, -1.46730214e-01,\n        2.24664062e-01,  1.12168945e-01, -1.17467843e-01, -2.48631630e-02,\n       -1.94443054e-02, -1.60950840e-01,  3.59156430e-01,  5.08796751e-01,\n       -1.03217661e-01, -1.69236697e-02,  5.17451108e-01,  1.87286124e-01,\n       -3.99821699e-02,  1.82485431e-01,  6.25769421e-02, -3.59652162e-01,\n       -5.32520175e-01,  5.90163954e-02, -2.51009334e-02, -1.23962276e-02,\n        5.25437474e-01,  1.24854282e-01,  1.05732664e-01, -1.67579144e-01,\n        1.45843655e-01, -4.39492822e-01, -1.82057723e-01,  1.00316569e-01,\n        2.23651469e-01, -9.77836549e-03,  1.76673755e-01, -1.17956467e-01,\n        1.35514727e-02, -2.92163789e-01, -3.22421581e-01, -1.01667404e-01,\n       -1.43298432e-01, -2.49343872e-01, -1.81248948e-01,  2.63883352e-01,\n        1.16492808e-01,  2.80658156e-02,  8.52157772e-02, -2.04236701e-01,\n        1.54884145e-01,  9.92656127e-02,  5.38590178e-02, -2.33252458e-02,\n        2.24290282e-01, -7.73553401e-02,  7.25349933e-02,  2.89150979e-02,\n        3.65160286e-01,  8.12829137e-02,  3.33969072e-02, -3.99206460e-01,\n       -4.28472161e-01,  7.44545385e-02,  3.51474524e-01,  1.92124665e-01,\n       -2.58771122e-01,  6.18670806e-02,  4.75484103e-01,  2.71741338e-02,\n        4.17604148e-02,  4.30376589e-01,  1.97485045e-01, -1.06161069e-02,\n        1.04371853e-01,  1.99489430e-01,  2.93528824e-03,  1.81991886e-02,\n        3.46763134e-02, -2.29887992e-01,  2.24084377e-01, -2.41143584e-01,\n       -9.54337269e-02,  4.28544402e-01, -1.82903931e-01,  4.65995938e-01,\n        2.33323444e-02, -1.71280414e-01,  1.40154213e-01,  4.51490581e-01,\n       -3.10625643e-01, -1.76780909e-01,  8.71983692e-02,  9.23894569e-02,\n        3.84868309e-02, -1.88997418e-01, -7.62841851e-02, -2.70296454e-01,\n        1.52144670e-01, -4.07771975e-01,  2.14300249e-02,  2.86240578e-01,\n        1.15858227e-01,  2.75238276e-01,  2.00185969e-01, -3.37356776e-01,\n       -2.49618992e-01, -4.87391323e-01, -7.41778016e-02, -2.56491848e-03,\n        2.88884547e-02, -6.80643842e-02, -9.87217128e-02,  2.45610997e-02,\n        2.94452697e-01,  1.45752102e-01, -1.11347273e-01,  7.65044466e-02,\n       -2.18212306e-01,  5.23287021e-02, -2.06654996e-01,  1.17750376e-01,\n       -1.38380025e-02, -5.83944097e-02, -6.57452866e-02,  4.25250620e-01,\n       -4.27766025e-01,  2.73508072e-01,  3.26983631e-01,  2.69569576e-01,\n       -4.42443006e-02,  3.65687191e-01, -4.55833972e-02,  5.12464195e-02,\n        1.65717363e-01, -1.82334661e-01,  1.15294747e-01,  1.11442223e-01,\n       -3.08477968e-01, -1.97955385e-01, -1.57468408e-01,  3.27427179e-01,\n       -3.77942920e-01,  3.18457752e-01, -3.78152132e-01, -3.19804668e-01,\n       -4.74938035e-01,  3.47378910e-01, -3.40651274e-01, -4.36581552e-01,\n        2.92030309e-04,  1.02579571e-01, -3.02160412e-01, -7.08140060e-02,\n       -3.01718354e-01,  4.70304698e-01, -1.66988524e-03, -3.14148128e-01,\n       -4.33060527e-02,  1.55961871e-01, -6.91210181e-02, -8.19630921e-02,\n        7.25866407e-02,  2.08505452e-01, -1.62984177e-01, -2.44828701e-01,\n       -2.72959262e-01,  1.02565721e-01,  1.73632786e-01,  7.53393054e-01,\n       -3.33847255e-01, -6.05933331e-02, -1.06733583e-01,  1.95644692e-01,\n       -2.06774950e-01,  4.67103571e-02,  3.33705544e-01, -3.20147425e-01,\n       -1.19348869e-01, -7.56392106e-02,  3.14855963e-01, -2.07006708e-01,\n       -2.86289483e-01,  6.48826897e-01,  2.04721108e-01, -4.92987424e-01,\n        6.83964044e-02,  1.62325934e-01, -3.20822269e-01, -2.21006334e-01,\n        1.39970437e-01,  1.14563234e-01,  7.55354539e-02, -1.28473729e-01,\n        2.54013300e-01,  2.11696237e-01, -3.45870912e-01, -1.37075871e-01,\n        2.10945178e-02, -1.98516265e-01,  2.21809760e-01,  3.93831842e-02,\n       -1.61394432e-01, -1.20707504e-01,  1.30809352e-01,  1.21725388e-01,\n       -2.55267024e-01,  1.26516744e-01,  5.24661727e-02,  2.36314312e-01,\n        1.92155838e-01,  4.20038879e-01,  1.72633708e-01, -3.81985217e-01,\n       -2.87167788e-01,  3.67238559e-02, -1.92637563e-01, -3.75452220e-01,\n       -3.40042412e-01,  3.15184861e-01, -1.24435350e-01,  1.22325130e-01,\n        2.87688643e-01,  9.60502401e-02,  1.45994306e-01, -2.77829647e-01,\n        3.10871303e-02, -2.78374791e-01,  7.20817894e-02, -2.69301236e-01],\n      dtype=float32)"
     },
     "metadata": {},
     "execution_count": 20
    }
   ],
   "source": [
    "model[\"1045\"]"
   ]
  },
  {
   "cell_type": "code",
   "execution_count": 25,
   "metadata": {
    "tags": []
   },
   "outputs": [
    {
     "output_type": "execute_result",
     "data": {
      "text/plain": "[('7330', 0.5720028281211853),\n ('957', 0.3839990496635437),\n ('5504', 0.3086390495300293),\n ('1405', 0.3059519827365875),\n ('7399', 0.3045691251754761),\n ('4939', 0.3031708598136902),\n ('340', 0.2986315190792084),\n ('4323', 0.2900763154029846),\n ('7123', 0.288167268037796),\n ('578', 0.2875266969203949)]"
     },
     "metadata": {},
     "execution_count": 25
    }
   ],
   "source": [
    "model.most_similar(\"13\",topn=10)"
   ]
  },
  {
   "cell_type": "code",
   "execution_count": null,
   "metadata": {},
   "outputs": [],
   "source": [
    "# w2v_path=\"../data/word2vec.bin\"\n",
    "# word_vectors = gensim.models.KeyedVectors.load_word2vec_format(w2v_path, binary=True)"
   ]
  }
 ]
}